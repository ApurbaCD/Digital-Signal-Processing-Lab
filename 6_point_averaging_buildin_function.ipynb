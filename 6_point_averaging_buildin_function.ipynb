{
 "cells": [
  {
   "cell_type": "code",
   "execution_count": null,
   "id": "d223a7a6",
   "metadata": {},
   "outputs": [
    {
     "name": "stdout",
     "output_type": "stream",
     "text": [
      "[3.5 4.5 5.5 6.5 7.5]\n"
     ]
    }
   ],
   "source": [
    "# A 6-point averaging filter is a type of Finite Impulse Response (FIR) low-pass \n",
    "# filter used to smooth discrete-time signals by reducing rapid fluctuations (i.e., noise). \n",
    "# It works by averaging the current sample with the five previous ones.\n",
    "\n",
    "import numpy as np\n",
    "\n",
    "# Input signal\n",
    "x = np.array([1, 2, 3, 4, 5, 6, 7, 8, 9, 10])\n",
    "\n",
    "# Define a 6-point averaging kernel: [1/6, 1/6, ..., 1/6] (6 times)\n",
    "kernel = np.ones(6) / 6\n",
    "\n",
    "# Apply convolution to compute the moving average\n",
    "y = np.convolve(x, kernel, mode='valid')\n",
    "\n",
    "# or make a onother code block\n",
    "\n",
    "# def convolve(x, h):\n",
    "#     len_x = len(x)\n",
    "#     len_h = len(h)\n",
    "#     len_y = len_x + len_h - 1\n",
    "\n",
    "#     y = [0] * len_y\n",
    "\n",
    "#     for n in range(len_y):\n",
    "#         for k in range(len_x):\n",
    "#             if (n-k >= 0 and n-k < len_h):\n",
    "#                 y[n] += x[k] * h[n-k]\n",
    "#     return y\n",
    "\n",
    "# Print the filtered output\n",
    "print(y)\n",
    "# must plot in matplotlib"
   ]
  },
  {
   "cell_type": "code",
   "execution_count": null,
   "id": "83697559",
   "metadata": {},
   "outputs": [
    {
     "name": "stdout",
     "output_type": "stream",
     "text": [
      "[1.5 2.  2.5 3.  3.5 4.  4.5 5. ]\n"
     ]
    }
   ],
   "source": [
    "# A 6-point differencing filter is used to emphasize changes in the signal,\n",
    "#  often highlighting edges or rapid transitions.\n",
    "#  It acts like a high-pass filter.\n",
    "\n",
    "import numpy as np\n",
    "import matplotlib.pyplot as plt\n",
    "\n",
    "# Example input signal (can be replaced with any signal)\n",
    "x = np.array([1, 2, 4, 7, 11, 16, 22, 29, 37, 46, 56, 67, 79])\n",
    "\n",
    "# Define filter coefficients for your custom differencing filter\n",
    "b = np.array([1, -1, 1, -1, 1, -1]) / 6\n",
    "\n",
    "# Apply the FIR filter using convolution\n",
    "y = np.convolve(x, b, mode='valid')\n",
    "print(y)\n",
    "\n",
    "# Time indices\n",
    "# n = np.arange(len(x))\n",
    "# n_y = np.arange(5, len(x))  # Output is shorter by 5 samples (length of filter - 1)\n",
    "\n",
    "# # Plot the original and filtered signals\n",
    "# plt.figure(figsize=(10, 5))\n",
    "# plt.plot(n, x, marker='o', label='Original Signal x[n]')\n",
    "# plt.plot(n_y, y, marker='s', label='Filtered Output y[n]')\n",
    "# plt.title('6-Point Alternating Differencing Filter')\n",
    "# plt.xlabel('Sample Index n')\n",
    "# plt.ylabel('Amplitude')\n",
    "# plt.grid(True)\n",
    "# plt.legend()\n",
    "# plt.tight_layout()\n",
    "# plt.show()\n"
   ]
  }
 ],
 "metadata": {
  "kernelspec": {
   "display_name": "Python 3",
   "language": "python",
   "name": "python3"
  },
  "language_info": {
   "codemirror_mode": {
    "name": "ipython",
    "version": 3
   },
   "file_extension": ".py",
   "mimetype": "text/x-python",
   "name": "python",
   "nbconvert_exporter": "python",
   "pygments_lexer": "ipython3",
   "version": "3.10.12"
  }
 },
 "nbformat": 4,
 "nbformat_minor": 5
}
